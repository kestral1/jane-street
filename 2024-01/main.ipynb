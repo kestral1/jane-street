{
 "cells": [
  {
   "cell_type": "code",
   "execution_count": 19,
   "metadata": {},
   "outputs": [
    {
     "name": "stdout",
     "output_type": "stream",
     "text": [
      "The autoreload extension is already loaded. To reload it, use:\n",
      "  %reload_ext autoreload\n"
     ]
    }
   ],
   "source": [
    "%load_ext autoreload\n",
    "%autoreload 2"
   ]
  },
  {
   "cell_type": "code",
   "execution_count": 20,
   "metadata": {},
   "outputs": [],
   "source": [
    "from tree_util import BoardState, Node"
   ]
  },
  {
   "cell_type": "code",
   "execution_count": 21,
   "metadata": {},
   "outputs": [],
   "source": [
    "board_state_list = [\n",
    "    ['', '', '', '', '', '', '',  2, ''],\n",
    "    ['', '', '', '', '', '', '', '',  5],\n",
    "    ['',  2, '', '', '', '', '', '', ''],\n",
    "    ['', '',  0, '', '', '', '', '', ''],\n",
    "    ['', '', '', '', '', '', '', '', ''],\n",
    "    ['', '', '',  2, '', '', '', '', ''],\n",
    "    ['', '', '', '',  0, '', '', '', ''],\n",
    "    ['', '', '', '', '',  2, '', '', ''],\n",
    "    ['', '', '', '', '', '',  5, '', ''],\n",
    "]"
   ]
  },
  {
   "cell_type": "code",
   "execution_count": 22,
   "metadata": {},
   "outputs": [],
   "source": [
    "root_state = BoardState(board_state_list)"
   ]
  },
  {
   "cell_type": "code",
   "execution_count": 23,
   "metadata": {},
   "outputs": [
    {
     "name": "stdout",
     "output_type": "stream",
     "text": [
      "-------------\n",
      "|---|---|-2-|\n",
      "|---|---|--5|\n",
      "|-2-|---|---|\n",
      "-------------\n",
      "|--0|---|---|\n",
      "|---|---|---|\n",
      "|---|2--|---|\n",
      "-------------\n",
      "|---|-0-|---|\n",
      "|---|--2|---|\n",
      "|---|---|5--|\n",
      "-------------\n",
      "\n"
     ]
    }
   ],
   "source": [
    "print(root_state)"
   ]
  },
  {
   "cell_type": "code",
   "execution_count": 24,
   "metadata": {},
   "outputs": [
    {
     "name": "stdout",
     "output_type": "stream",
     "text": [
      "True\n"
     ]
    }
   ],
   "source": [
    "print(root_state.is_valid())"
   ]
  },
  {
   "cell_type": "code",
   "execution_count": 25,
   "metadata": {},
   "outputs": [
    {
     "name": "stdout",
     "output_type": "stream",
     "text": [
      "-------------\n",
      "|---|---|-2-|\n",
      "|---|---|--5|\n",
      "|-2-|---|---|\n",
      "-------------\n",
      "|--0|---|---|\n",
      "|---|---|---|\n",
      "|---|2--|---|\n",
      "-------------\n",
      "|---|-0-|---|\n",
      "|---|--2|---|\n",
      "|---|---|5-0|\n",
      "-------------\n",
      "\n",
      "True\n",
      "-------------\n",
      "|---|---|-2-|\n",
      "|---|---|--5|\n",
      "|-2-|---|---|\n",
      "-------------\n",
      "|--0|---|---|\n",
      "|---|---|---|\n",
      "|---|2--|---|\n",
      "-------------\n",
      "|---|-0-|---|\n",
      "|---|--2|---|\n",
      "|---|---|5-1|\n",
      "-------------\n",
      "\n",
      "True\n",
      "-------------\n",
      "|---|---|-2-|\n",
      "|---|---|--5|\n",
      "|-2-|---|---|\n",
      "-------------\n",
      "|--0|---|---|\n",
      "|---|---|---|\n",
      "|---|2--|---|\n",
      "-------------\n",
      "|---|-0-|---|\n",
      "|---|--2|---|\n",
      "|---|---|5-2|\n",
      "-------------\n",
      "\n",
      "True\n",
      "-------------\n",
      "|---|---|-2-|\n",
      "|---|---|--5|\n",
      "|-2-|---|---|\n",
      "-------------\n",
      "|--0|---|---|\n",
      "|---|---|---|\n",
      "|---|2--|---|\n",
      "-------------\n",
      "|---|-0-|---|\n",
      "|---|--2|---|\n",
      "|---|---|5-3|\n",
      "-------------\n",
      "\n",
      "True\n",
      "-------------\n",
      "|---|---|-2-|\n",
      "|---|---|--5|\n",
      "|-2-|---|---|\n",
      "-------------\n",
      "|--0|---|---|\n",
      "|---|---|---|\n",
      "|---|2--|---|\n",
      "-------------\n",
      "|---|-0-|---|\n",
      "|---|--2|---|\n",
      "|---|---|5-4|\n",
      "-------------\n",
      "\n",
      "True\n",
      "-------------\n",
      "|---|---|-2-|\n",
      "|---|---|--5|\n",
      "|-2-|---|---|\n",
      "-------------\n",
      "|--0|---|---|\n",
      "|---|---|---|\n",
      "|---|2--|---|\n",
      "-------------\n",
      "|---|-0-|---|\n",
      "|---|--2|---|\n",
      "|---|---|5-5|\n",
      "-------------\n",
      "\n",
      "False\n",
      "-------------\n",
      "|---|---|-2-|\n",
      "|---|---|--5|\n",
      "|-2-|---|---|\n",
      "-------------\n",
      "|--0|---|---|\n",
      "|---|---|---|\n",
      "|---|2--|---|\n",
      "-------------\n",
      "|---|-0-|---|\n",
      "|---|--2|---|\n",
      "|---|---|5-6|\n",
      "-------------\n",
      "\n",
      "True\n",
      "-------------\n",
      "|---|---|-2-|\n",
      "|---|---|--5|\n",
      "|-2-|---|---|\n",
      "-------------\n",
      "|--0|---|---|\n",
      "|---|---|---|\n",
      "|---|2--|---|\n",
      "-------------\n",
      "|---|-0-|---|\n",
      "|---|--2|---|\n",
      "|---|---|5-7|\n",
      "-------------\n",
      "\n",
      "True\n",
      "-------------\n",
      "|---|---|-2-|\n",
      "|---|---|--5|\n",
      "|-2-|---|---|\n",
      "-------------\n",
      "|--0|---|---|\n",
      "|---|---|---|\n",
      "|---|2--|---|\n",
      "-------------\n",
      "|---|-0-|---|\n",
      "|---|--2|---|\n",
      "|---|---|5-8|\n",
      "-------------\n",
      "\n",
      "True\n",
      "-------------\n",
      "|---|---|-2-|\n",
      "|---|---|--5|\n",
      "|-2-|---|---|\n",
      "-------------\n",
      "|--0|---|---|\n",
      "|---|---|---|\n",
      "|---|2--|---|\n",
      "-------------\n",
      "|---|-0-|---|\n",
      "|---|--2|---|\n",
      "|---|---|5-9|\n",
      "-------------\n",
      "\n",
      "True\n"
     ]
    }
   ],
   "source": [
    "root_node = Node(root_state)\n",
    "c = root_node.get_children()\n",
    "for i in range(10):\n",
    "    print(c[i].data)\n",
    "    print(c[i].data.is_valid())\n"
   ]
  },
  {
   "cell_type": "code",
   "execution_count": 26,
   "metadata": {},
   "outputs": [],
   "source": [
    "from time import time"
   ]
  },
  {
   "cell_type": "code",
   "execution_count": 27,
   "metadata": {},
   "outputs": [],
   "source": [
    "time_threshold = 1"
   ]
  },
  {
   "cell_type": "code",
   "execution_count": 28,
   "metadata": {},
   "outputs": [],
   "source": [
    "start_time = time()\n",
    "def solve(node, solutions):\n",
    "    if time() - start_time > time_threshold:\n",
    "        return\n",
    "    # print(node.data)\n",
    "    children = node.get_children()\n",
    "    if len(children) == 0:\n",
    "        # print('done!')\n",
    "        return node.data\n",
    "\n",
    "    for child in children:\n",
    "        # print(f'child valid: {child.is_valid()}')\n",
    "        if child.is_valid():\n",
    "            solved = solve(child, solutions)\n",
    "            if solved:\n",
    "                solutions.append(solved)\n",
    "                return"
   ]
  },
  {
   "cell_type": "code",
   "execution_count": 29,
   "metadata": {},
   "outputs": [
    {
     "data": {
      "text/plain": [
       "450"
      ]
     },
     "execution_count": 29,
     "metadata": {},
     "output_type": "execute_result"
    }
   ],
   "source": [
    "solutions = []\n",
    "solve(root_node, solutions)\n",
    "len(solutions)"
   ]
  },
  {
   "cell_type": "code",
   "execution_count": 32,
   "metadata": {},
   "outputs": [
    {
     "data": {
      "text/plain": [
       "<tree_util.BoardState at 0x716290f91000>"
      ]
     },
     "execution_count": 32,
     "metadata": {},
     "output_type": "execute_result"
    }
   ],
   "source": [
    "# for i in range(10):\n",
    "#     print(solutions[i])\n",
    "#     print(solutions[i].is_valid())\n",
    "\n",
    "solutions[0] == solutions[1]\n",
    "# print(solutions[0])\n",
    "# print(solutions[-1])\n",
    "\n",
    "\n",
    "solutions[-1].get"
   ]
  }
 ],
 "metadata": {
  "kernelspec": {
   "display_name": ".venv",
   "language": "python",
   "name": "python3"
  },
  "language_info": {
   "codemirror_mode": {
    "name": "ipython",
    "version": 3
   },
   "file_extension": ".py",
   "mimetype": "text/x-python",
   "name": "python",
   "nbconvert_exporter": "python",
   "pygments_lexer": "ipython3",
   "version": "3.10.12"
  }
 },
 "nbformat": 4,
 "nbformat_minor": 2
}
