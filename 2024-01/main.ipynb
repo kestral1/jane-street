{
 "cells": [
  {
   "cell_type": "code",
   "execution_count": 1,
   "metadata": {},
   "outputs": [],
   "source": [
    "%load_ext autoreload\n",
    "%autoreload 2"
   ]
  },
  {
   "cell_type": "code",
   "execution_count": 14,
   "metadata": {},
   "outputs": [],
   "source": [
    "from tree_util import BoardState, Node, find_gcd, find_list_gcd"
   ]
  },
  {
   "cell_type": "code",
   "execution_count": 3,
   "metadata": {},
   "outputs": [],
   "source": [
    "board_state_list = [\n",
    "    ['', '', '', '', '', '', '',  2, ''],\n",
    "    ['', '', '', '', '', '', '', '',  5],\n",
    "    ['',  2, '', '', '', '', '', '', ''],\n",
    "    ['', '',  0, '', '', '', '', '', ''],\n",
    "    ['', '', '', '', '', '', '', '', ''],\n",
    "    ['', '', '',  2, '', '', '', '', ''],\n",
    "    ['', '', '', '',  0, '', '', '', ''],\n",
    "    ['', '', '', '', '',  2, '', '', ''],\n",
    "    ['', '', '', '', '', '',  5, '', ''],\n",
    "]"
   ]
  },
  {
   "cell_type": "code",
   "execution_count": 4,
   "metadata": {},
   "outputs": [],
   "source": [
    "root_state = BoardState(board_state_list)"
   ]
  },
  {
   "cell_type": "code",
   "execution_count": null,
   "metadata": {},
   "outputs": [],
   "source": [
    "print(root_state)"
   ]
  },
  {
   "cell_type": "code",
   "execution_count": null,
   "metadata": {},
   "outputs": [],
   "source": [
    "print(root_state.is_valid())"
   ]
  },
  {
   "cell_type": "code",
   "execution_count": null,
   "metadata": {},
   "outputs": [],
   "source": [
    "root_node = Node(root_state)\n",
    "c = root_node.get_children()\n",
    "for i in range(10):\n",
    "    print(c[i].data)\n",
    "    print(c[i].data.is_valid())\n"
   ]
  },
  {
   "cell_type": "code",
   "execution_count": 8,
   "metadata": {},
   "outputs": [],
   "source": [
    "from time import time"
   ]
  },
  {
   "cell_type": "code",
   "execution_count": 9,
   "metadata": {},
   "outputs": [],
   "source": [
    "time_threshold = 10"
   ]
  },
  {
   "cell_type": "code",
   "execution_count": 10,
   "metadata": {},
   "outputs": [],
   "source": [
    "start_time = time()\n",
    "def solve(node, solutions):\n",
    "    if time() - start_time > time_threshold:\n",
    "        return\n",
    "    # print(node.data)\n",
    "    children = node.get_children()\n",
    "    if len(children) == 0:\n",
    "        # print('done!')\n",
    "        return node.data\n",
    "\n",
    "    for child in children:\n",
    "        # print(f'child valid: {child.is_valid()}')\n",
    "        if child.is_valid():\n",
    "            solved = solve(child, solutions)\n",
    "            if solved:\n",
    "                solutions.append(solved)\n",
    "                return"
   ]
  },
  {
   "cell_type": "code",
   "execution_count": null,
   "metadata": {},
   "outputs": [],
   "source": [
    "find_gcd(110, 120)"
   ]
  },
  {
   "cell_type": "code",
   "execution_count": null,
   "metadata": {},
   "outputs": [],
   "source": [
    "find_list_gcd([110, 120])"
   ]
  },
  {
   "cell_type": "code",
   "execution_count": null,
   "metadata": {},
   "outputs": [],
   "source": [
    "solutions = []\n",
    "solve(root_node, solutions)\n",
    "len(solutions)"
   ]
  },
  {
   "cell_type": "code",
   "execution_count": null,
   "metadata": {},
   "outputs": [],
   "source": [
    "# for i in range(10):\n",
    "#     print(solutions[i])\n",
    "#     print(solutions[i].is_valid())\n",
    "\n",
    "print(f\"{solutions[0] == solutions[1]}\")\n",
    "\n",
    "print(solutions[-1])\n",
    "solutions[-1].get_filled_rows_as_int()"
   ]
  }
 ],
 "metadata": {
  "kernelspec": {
   "display_name": ".venv",
   "language": "python",
   "name": "python3"
  },
  "language_info": {
   "codemirror_mode": {
    "name": "ipython",
    "version": 3
   },
   "file_extension": ".py",
   "mimetype": "text/x-python",
   "name": "python",
   "nbconvert_exporter": "python",
   "pygments_lexer": "ipython3",
   "version": "3.10.12"
  }
 },
 "nbformat": 4,
 "nbformat_minor": 2
}
